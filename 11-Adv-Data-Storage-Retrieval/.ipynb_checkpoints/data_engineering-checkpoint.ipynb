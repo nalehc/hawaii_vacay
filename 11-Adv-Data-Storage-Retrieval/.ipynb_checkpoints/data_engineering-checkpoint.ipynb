{
 "cells": [
  {
   "cell_type": "code",
   "execution_count": 40,
   "metadata": {},
   "outputs": [
    {
     "name": "stdout",
     "output_type": "stream",
     "text": [
      "<class 'pandas.core.frame.DataFrame'>\n"
     ]
    }
   ],
   "source": [
    "import pandas as pd\n",
    "import numpy as np\n",
    "import matplotlib.pyplot as plt\n",
    "\n",
    "measurements = pd.read_csv(\"Instructions/Resources/hawaii_measurements.csv\")\n",
    "stations = pd.read_csv(\"Instructions/Resources/hawaii_stations.csv\")\n",
    "print(type(stations))"
   ]
  },
  {
   "cell_type": "code",
   "execution_count": 41,
   "metadata": {
    "collapsed": true
   },
   "outputs": [],
   "source": [
    "#Decided to replace NaN with median precipitation at each station.\n",
    "stations_list = measurements.station.unique()\n",
    "for x in stations_list:\n",
    "    measurements.loc[measurements.station==x,'prcp'] = measurements.loc[measurements.station==x,'prcp'].fillna(measurements[measurements['station'] == x]['prcp'].median())\n"
   ]
  },
  {
   "cell_type": "code",
   "execution_count": 42,
   "metadata": {},
   "outputs": [],
   "source": [
    "measurements.to_csv(\"Instructions/Resources/clean_measurements.csv\")\n",
    "stations.to_csv(\"Instructions/Resources/clean_stations.csv\")"
   ]
  },
  {
   "cell_type": "code",
   "execution_count": null,
   "metadata": {
    "collapsed": true
   },
   "outputs": [],
   "source": []
  }
 ],
 "metadata": {
  "kernelspec": {
   "display_name": "Python 3",
   "language": "python",
   "name": "python3"
  },
  "language_info": {
   "codemirror_mode": {
    "name": "ipython",
    "version": 3
   },
   "file_extension": ".py",
   "mimetype": "text/x-python",
   "name": "python",
   "nbconvert_exporter": "python",
   "pygments_lexer": "ipython3",
   "version": "3.6.2"
  }
 },
 "nbformat": 4,
 "nbformat_minor": 2
}
